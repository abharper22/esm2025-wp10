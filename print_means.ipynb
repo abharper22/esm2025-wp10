{
 "cells": [
  {
   "cell_type": "code",
   "execution_count": 3,
   "id": "1bcbc49d-0d94-40a4-b02f-7c80d90b485d",
   "metadata": {},
   "outputs": [],
   "source": [
    "from scipy.io import netcdf\n",
    "\n",
    "import iris\n",
    "import iris.coord_categorisation\n",
    "\n",
    "import os\n",
    "import logging\n",
    "\n",
    "import numpy as np\n",
    "\n",
    "import pickle\n",
    "from pathlib import Path\n",
    "logger = logging.getLogger(__name__)"
   ]
  },
  {
   "cell_type": "code",
   "execution_count": 4,
   "id": "956191ee-8026-4785-9b38-be34fd4791d9",
   "metadata": {},
   "outputs": [],
   "source": [
    "def get_scenarios():\n",
    "    \"\"\"\n",
    "        Return a List containing SCENARIO tag names\n",
    "    \"\"\"\n",
    "    MODELS = [ 'clm', 'jules', 'orchidee' ]\n",
    "    LU_SCENARIOS = [ 'nattobiobio','nattobioaff','nattobio','nattoaff','agtonat','agtobio','agtoaff' ]\n",
    "    CLIM_SCENARIOS = [ 'ssp126', 'ssp370' ]\n",
    "    CLIM_MODELS = [ 'mpi-esm1-2-hr','ukesm1-0-ll','ipsl-cm6a-lr' ]\n",
    "    return CLIM_SCENARIOS, CLIM_MODELS"
   ]
  },
  {
   "cell_type": "code",
   "execution_count": 43,
   "id": "b128d699-617f-4fa2-b5d2-9079e68c8c9e",
   "metadata": {},
   "outputs": [],
   "source": [
    "def main():\n",
    "\n",
    "    LSM = 'clm'\n",
    "    var='cSoil'\n",
    "\n",
    "    if LSM=='jules':\n",
    "        SCENARIO_TITLES = ['nolucbio','nolucaff','agtobio', 'agtonat', 'agtoaff', 'nattobio', 'nattoaff']\n",
    "    elif LSM=='clm' or LSM=='orchidee':\n",
    "        SCENARIO_TITLES = ['noluc','agtobio', 'agtonat', 'agtoaff', 'nattobio', 'nattoaff']\n",
    "    elif LSM=='jsbach':\n",
    "        SCENARIO_TITLES = ['noluc','agtobio', 'agtoaff', 'nattobio']\n",
    "\n",
    "    nscenarios=len(SCENARIO_TITLES)\n",
    "    ssp,esm=get_scenarios()\n",
    "\n",
    "\n",
    "    if LSM=='jules':\n",
    "        base_file = Path('/bdd/ESM2025/WP10/analysis/files/'+LSM+'_'+var+'_'+'nolucbio.pkl')\n",
    "        base_file2= Path('/bdd/ESM2025/WP10/analysis/files/'+LSM+'_'+var+'_'+'nolucaff.pkl')\n",
    "        with open(base_file, 'rb') as f4:\n",
    "            NOLUCBIO_DICT = pickle.load(f4)\n",
    "        with open(base_file2, 'rb') as f5:\n",
    "            NOLUCAFF_DICT = pickle.load(f5)\n",
    "    else:\n",
    "        base_file = Path('/bdd/ESM2025/WP10/analysis/files/'+LSM+'_'+var+'_'+'noluc.pkl')\n",
    "        with open(base_file, 'rb') as f4:\n",
    "            NOLUC_DICT = pickle.load(f4)\n",
    "            \n",
    "    for i0 in range(nscenarios):\n",
    "\n",
    "        print(SCENARIO_TITLES[i0])\n",
    "        my_file = Path('/bdd/ESM2025/WP10/analysis/files/'+LSM+'_'+var+'_'+SCENARIO_TITLES[i0]+'.pkl')\n",
    "        tropics_file = Path('/bdd/ESM2025/WP10/analysis/files/'+LSM+'_'+var+'_'+SCENARIO_TITLES[i0]+'_tropics.pkl')\n",
    "        temperate_file = Path('/bdd/ESM2025/WP10/analysis/files/'+LSM+'_'+var+'_'+SCENARIO_TITLES[i0]+'_temp.pkl')\n",
    "\n",
    "    \n",
    "        if temperate_file.is_file():\n",
    "            # file exists, we can skip a bunch of steps:\n",
    "            with open(my_file, 'rb') as f1:\n",
    "                ENSEMBLE_MEAN = pickle.load(f1)\n",
    "            with open(tropics_file, 'rb') as f2:\n",
    "                TROPICS_MEAN = pickle.load(f2)\n",
    "            with open(temperate_file, 'rb') as f3:    \n",
    "                TEMPERATE_MEAN = pickle.load(f3)\n",
    "\n",
    "        for i1 in range(0,2):\n",
    "            temparray=np.array(list(ENSEMBLE_MEAN[ssp[i1]].values()))\n",
    "            if LSM=='jules':\n",
    "                if SCENARIO_TITLES[i0]=='nolucbio' or SCENARIO_TITLES[i0]=='agtobio' or SCENARIO_TITLES[i0]=='nattobio':\n",
    "                    nolucarray=np.array(list(NOLUCBIO_DICT[ssp[i1]].values()))\n",
    "                else:\n",
    "                    nolucarray=np.array(list(NOLUCAFF_DICT[ssp[i1]].values()))\n",
    "            else:\n",
    "                nolucarray=np.array(list(NOLUC_DICT[ssp[i1]].values()))\n",
    "            \n",
    "#            delta_gb=(temparray[:,0,-1]-temparray[:,0,0]) - (nolucarray[:,0,-1]-nolucarray[:,0,0]) \n",
    "            delta_gb=(temparray[:,0,-1]-temparray[:,0,0])\n",
    "           \n",
    "        \n",
    "            ssp_mean = np.mean(delta_gb)\n",
    "            ssp_min = np.min(delta_gb)\n",
    "            ssp_max = np.max(delta_gb)\n",
    "        \n",
    "            print('Global average,min,max change for:',ssp[i1],ssp_mean,ssp_min,ssp_max)\n",
    "        print(' ')\n",
    "        "
   ]
  },
  {
   "cell_type": "code",
   "execution_count": 44,
   "id": "a77c6df9-9999-4b6f-b57d-8592ff2d9d36",
   "metadata": {},
   "outputs": [
    {
     "name": "stdout",
     "output_type": "stream",
     "text": [
      "noluc\n",
      "Global average,min,max change for: ssp126 28.65168795838493 19.70645046718755 39.95606527546124\n",
      "Global average,min,max change for: ssp370 29.522511130347993 12.435910808047083 52.731871927059274\n",
      " \n",
      "agtobio\n",
      "Global average,min,max change for: ssp126 21.634865179640656 12.907392893940596 32.832446342599724\n",
      "Global average,min,max change for: ssp370 22.361725964345016 5.428477276227568 45.48222638125435\n",
      " \n",
      "agtonat\n",
      "Global average,min,max change for: ssp126 31.339161313713095 22.58635090847565 42.50255669807075\n",
      "Global average,min,max change for: ssp370 33.16353206558082 16.0812145379532 56.28953058486377\n",
      " \n",
      "agtoaff\n",
      "Global average,min,max change for: ssp126 30.830915446770632 21.899356652300412 42.13880116487917\n",
      "Global average,min,max change for: ssp370 33.420585085815524 16.271002273226713 56.79675168012045\n",
      " \n",
      "nattobio\n",
      "Global average,min,max change for: ssp126 10.521409772523233 0.9802668106412966 22.13293397328971\n",
      "Global average,min,max change for: ssp370 8.788868148559686 -8.868446708669126 32.298522585552746\n",
      " \n",
      "nattoaff\n",
      "Global average,min,max change for: ssp126 28.639432611132026 19.232295492478443 40.127259181968384\n",
      "Global average,min,max change for: ssp370 30.69974616475065 13.23521257381708 54.31802588438859\n",
      " \n"
     ]
    }
   ],
   "source": [
    "if __name__ == \"__main__\":\n",
    "    main()"
   ]
  },
  {
   "cell_type": "markdown",
   "id": "b97bfb4d-5f17-4728-be42-1eec884ccc41",
   "metadata": {},
   "source": [
    "# "
   ]
  },
  {
   "cell_type": "code",
   "execution_count": null,
   "id": "c2364336-b6ac-436e-a6d4-59135b6dc2fa",
   "metadata": {},
   "outputs": [],
   "source": []
  }
 ],
 "metadata": {
  "kernelspec": {
   "display_name": "Python 3 (ipykernel)",
   "language": "python",
   "name": "python3"
  },
  "language_info": {
   "codemirror_mode": {
    "name": "ipython",
    "version": 3
   },
   "file_extension": ".py",
   "mimetype": "text/x-python",
   "name": "python",
   "nbconvert_exporter": "python",
   "pygments_lexer": "ipython3",
   "version": "3.12.0"
  }
 },
 "nbformat": 4,
 "nbformat_minor": 5
}
